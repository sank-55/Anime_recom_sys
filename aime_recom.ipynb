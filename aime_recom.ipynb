anime = anime.dropna(subset=['genre'])
anime = anime.drop_duplicates(subset='name')

anime = anime.reset_index(drop=True)

anime['rating'] = anime['rating'].fillna(0)